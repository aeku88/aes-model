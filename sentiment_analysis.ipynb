{
 "cells": [
  {
   "metadata": {
    "ExecuteTime": {
     "end_time": "2025-02-20T03:22:39.103497Z",
     "start_time": "2025-02-20T03:22:38.064422Z"
    }
   },
   "cell_type": "code",
   "source": [
    "import datasets\n",
    "from transformers import pipeline\n",
    "from transformers.pipelines.pt_utils import KeyDataset\n",
    "from tqdm.auto import tqdm\n",
    "\n",
    "classifier = pipeline(\"sentiment-analysis\", model=\"distilbert/distilbert-base-uncased-finetuned-sst-2-english\", device=0)\n",
    "\n",
    "tokenizer_kwargs = {'padding' : True, 'truncation' : True, 'max_length' : 512}\n",
    "\n",
    "data_files = {\"test\": \"asap-aes-processed/training_set_segmented - prompt_1.csv\"}\n",
    "\n",
    "asap_ds = datasets.load_dataset(\"csv\", data_files=data_files)\n",
    "asap_ds['test'][1]['domain1_score']"
   ],
   "id": "23acdd36e94d07bc",
   "outputs": [
    {
     "name": "stderr",
     "output_type": "stream",
     "text": [
      "Device set to use cuda:0\n"
     ]
    },
    {
     "data": {
      "text/plain": [
       "9"
      ]
     },
     "execution_count": 7,
     "metadata": {},
     "output_type": "execute_result"
    }
   ],
   "execution_count": 7
  },
  {
   "metadata": {
    "ExecuteTime": {
     "end_time": "2025-02-20T03:31:37.929390Z",
     "start_time": "2025-02-20T03:31:12.310557Z"
    }
   },
   "cell_type": "code",
   "source": [
    "import numpy as np\n",
    "\n",
    "sentiment_scores = []\n",
    "\n",
    "for out in tqdm(classifier(KeyDataset(asap_ds['test'], 'essay'), **tokenizer_kwargs)):\n",
    "    sentiment_scores.append(out['score'])\n",
    "\n",
    "scores = []\n",
    "for score in asap_ds['test']['domain1_score']:\n",
    "    scores.append(score)"
   ],
   "id": "6b45f530f5645808",
   "outputs": [
    {
     "data": {
      "text/plain": [
       "  0%|          | 0/1783 [00:00<?, ?it/s]"
      ],
      "application/vnd.jupyter.widget-view+json": {
       "version_major": 2,
       "version_minor": 0,
       "model_id": "90e2cc3d6fae4fd3810fb0974ebaa392"
      }
     },
     "metadata": {},
     "output_type": "display_data"
    }
   ],
   "execution_count": 19
  },
  {
   "metadata": {
    "ExecuteTime": {
     "end_time": "2025-02-20T02:31:42.948736Z",
     "start_time": "2025-02-20T02:31:41.594858Z"
    }
   },
   "cell_type": "code",
   "source": "from sklearn.linear_model import LinearRegression",
   "id": "b33c30150cd7a5fc",
   "outputs": [],
   "execution_count": 3
  },
  {
   "metadata": {
    "ExecuteTime": {
     "end_time": "2025-02-20T03:32:24.680435Z",
     "start_time": "2025-02-20T03:32:24.673334Z"
    }
   },
   "cell_type": "code",
   "source": [
    "x = np.array(sentiment_scores)\n",
    "y = np.array(scores)\n",
    "\n",
    "x = x.reshape(-1, 1)"
   ],
   "id": "60eabea5d76b2ffc",
   "outputs": [],
   "execution_count": 22
  },
  {
   "metadata": {
    "ExecuteTime": {
     "end_time": "2025-02-20T03:32:26.841048Z",
     "start_time": "2025-02-20T03:32:26.813055Z"
    }
   },
   "cell_type": "code",
   "source": [
    "from sklearn.linear_model import LinearRegression\n",
    "\n",
    "model = LinearRegression()\n",
    "model.fit(x, y)\n",
    "r_squared = model.score(x, y)\n",
    "\n",
    "print(f\"R-squared value: {r_squared}\")"
   ],
   "id": "d0d0aade92ff27b1",
   "outputs": [
    {
     "name": "stdout",
     "output_type": "stream",
     "text": [
      "R-squared value: 0.0012086744904397095\n"
     ]
    }
   ],
   "execution_count": 23
  }
 ],
 "metadata": {
  "kernelspec": {
   "display_name": "Python 3",
   "language": "python",
   "name": "python3"
  },
  "language_info": {
   "codemirror_mode": {
    "name": "ipython",
    "version": 2
   },
   "file_extension": ".py",
   "mimetype": "text/x-python",
   "name": "python",
   "nbconvert_exporter": "python",
   "pygments_lexer": "ipython2",
   "version": "2.7.6"
  }
 },
 "nbformat": 4,
 "nbformat_minor": 5
}
